{
 "cells": [
  {
   "cell_type": "markdown",
   "metadata": {},
   "source": [
    "# Universal Tree Traversal\n",
    "\n",
    "We defined a grammar for a so-called universal tree traversal (UTT) grammar in\n",
    "`README.md`. This grammar is a relatively simple and contranied language that\n",
    "can be used to describe most tree traversals. In this notebook, we show how\n",
    "to use a simple parser to parse a UTT grammar and execute the traversal."
   ]
  },
  {
   "cell_type": "code",
   "execution_count": 1,
   "metadata": {},
   "outputs": [
    {
     "name": "stdout",
     "output_type": "stream",
     "text": [
      "A\n",
      "├───── B\n",
      "│      ├───── D\n",
      "│      │      ├───── H\n",
      "│      │      ├───── I\n",
      "│      │      └───── J\n",
      "│      ├───── E\n",
      "│      ├───── K\n",
      "│      └───── L\n",
      "├───── C\n",
      "│      ├───── F\n",
      "│      ├───── G\n",
      "│      ├───── M\n",
      "│      └───── N\n",
      "├───── O\n",
      "└───── P\n",
      "       └───── Q\n",
      "\n"
     ]
    }
   ],
   "source": [
    "from treeprog.utt_eval import UttEval\n",
    "import AlgoTree\n",
    "\n",
    "def pp_results(res):\n",
    "    for k, ns in res.items():\n",
    "        print(f\"{k}: {[n.name for n in ns]}\")\n",
    "\n",
    "tree = AlgoTree.FlatForest(\n",
    "    {\n",
    "        \"A\": { \"data\": \"Data for A\" },\n",
    "        \"B\": { \"data\": \"Data for B\", \"parent\": \"A\" },\n",
    "        \"C\": { \"data\": \"Data for C\", \"parent\": \"A\" },\n",
    "        \"D\": { \"data\": \"Data for D\", \"parent\": \"B\" },\n",
    "        \"E\": { \"data\": \"Data for E\", \"parent\": \"B\" },\n",
    "        \"F\": { \"data\": \"Data for F\", \"parent\": \"C\" },\n",
    "        \"G\": { \"data\": \"Data for G\", \"parent\": \"C\" },\n",
    "        \"H\": { \"data\": \"Data for H\", \"parent\": \"D\" },\n",
    "        \"I\": { \"data\": \"Data for I\", \"parent\": \"D\" },\n",
    "        \"J\": { \"data\": \"Data for J\", \"parent\": \"D\" },\n",
    "        \"K\": { \"data\": \"Data for K\", \"parent\": \"B\" },        \n",
    "        \"L\": { \"data\": \"Data for L\", \"parent\": \"B\" },\n",
    "        \"M\": { \"data\": \"Data for M\", \"parent\": \"C\" },\n",
    "        \"N\": { \"data\": \"Data for N\", \"parent\": \"C\" },\n",
    "        \"O\": { \"data\": \"Data for O\", \"parent\": \"A\" },\n",
    "        \"P\": { \"data\": \"Data for P\", \"parent\": \"A\" },\n",
    "        \"Q\": { \"data\": \"Data for Q\", \"parent\": \"P\" }\n",
    "    }\n",
    ")\n",
    "print(AlgoTree.pretty_tree(tree))"
   ]
  },
  {
   "cell_type": "code",
   "execution_count": 2,
   "metadata": {},
   "outputs": [
    {
     "name": "stdout",
     "output_type": "stream",
     "text": [
      "pre-order: ['A', 'B', 'D', 'H', 'J', 'I', 'E', 'L', 'K', 'O', 'C', 'M', 'N', 'G', 'F', 'P', 'Q']\n"
     ]
    }
   ],
   "source": [
    "pre_order = [\n",
    "    {\"visit\": \"true\", \"result-name\": \"pre-order\"},\n",
    "    {\"follow\": \"down\", \"select-order\": \"shuffle\"},\n",
    "]\n",
    "tree_eval = UttEval(False)\n",
    "pp_results(tree_eval(tree.root, pre_order))\n"
   ]
  },
  {
   "cell_type": "code",
   "execution_count": 3,
   "metadata": {},
   "outputs": [
    {
     "name": "stdout",
     "output_type": "stream",
     "text": [
      "A\n",
      "├───── B\n",
      "│      ├───── D\n",
      "│      │      ├───── H\n",
      "│      │      ├───── I\n",
      "│      │      └───── J\n",
      "│      ├───── E\n",
      "│      ├───── K\n",
      "│      └───── L\n",
      "├───── C\n",
      "│      ├───── F\n",
      "│      ├───── G\n",
      "│      ├───── M\n",
      "│      └───── N\n",
      "├───── O\n",
      "└───── P\n",
      "       └───── Q\n",
      "\n",
      "post-order: ['H', 'I', 'J', 'D', 'E', 'K', 'L', 'B', 'F', 'G', 'M', 'N', 'C', 'O', 'Q', 'P', 'A']\n",
      "a-random-root-to-leaf: ['A', 'C', 'M']\n",
      "a-random-root-to-leaf: ['A', 'P', 'Q']\n",
      "a-random-root-to-leaf: ['A', 'O']\n"
     ]
    }
   ],
   "source": [
    "print(AlgoTree.pretty_tree(tree))\n",
    "post_order = [\n",
    "    {\"follow\": \"down\"},\n",
    "    {\"visit\": \"true\", \"result-name\": \"post-order\"}\n",
    "]\n",
    "\n",
    "single_path = [\n",
    "    {\"visit\": \"true\", \"result-name\": \"a-random-root-to-leaf\"},\n",
    "    {\"follow\": \"down\",\n",
    "     \"select\": {\"name\": \"sample\", \"kwargs\": {\"n\": 1}}\n",
    "    }\n",
    "]\n",
    "\n",
    "pp_results(tree_eval(tree.root, post_order))\n",
    "pp_results(tree_eval(tree.root, single_path))\n",
    "pp_results(tree_eval(tree.root, single_path))\n",
    "pp_results(tree_eval(tree.root, single_path))\n"
   ]
  },
  {
   "cell_type": "markdown",
   "metadata": {},
   "source": [
    "The next example is a little unusual, as we have two follow actios: `up` and `down`.\n",
    "Normally, you only see one, but we are mixing them together to show how the parser\n",
    "can handle it."
   ]
  },
  {
   "cell_type": "code",
   "execution_count": 4,
   "metadata": {},
   "outputs": [
    {
     "name": "stdout",
     "output_type": "stream",
     "text": [
      "A\n",
      "├───── B\n",
      "│      ├───── D\n",
      "│      │      ├───── H\n",
      "│      │      ├───── I\n",
      "│      │      └───── J\n",
      "│      ├───── E\n",
      "│      ├───── K\n",
      "│      └───── L\n",
      "├───── C\n",
      "│      ├───── F\n",
      "│      ├───── G\n",
      "│      ├───── M\n",
      "│      └───── N\n",
      "├───── O\n",
      "└───── P\n",
      "       └───── Q\n",
      "\n",
      "custom-order: ['A', 'B', 'D', 'H', 'I', 'J', 'E', 'K', 'L', 'C', 'F', 'G', 'M', 'N', 'O', 'P', 'Q']\n"
     ]
    }
   ],
   "source": [
    "B = tree.node(\"B\")\n",
    "custom_order = [\n",
    "    {\"follow\": \"up\"},\n",
    "    {\"visit\": \"true\", \"result-name\": \"custom-order\"},\n",
    "    {\"follow\": \"down\"}\n",
    "]\n",
    "print(AlgoTree.pretty_tree(tree))\n",
    "pp_results(tree_eval(B, custom_order))"
   ]
  },
  {
   "cell_type": "markdown",
   "metadata": {},
   "source": [
    "This may not have the expected behavior for more complex `down` actions. Let's\n",
    "only sample a single node for the down action to see a simple example."
   ]
  },
  {
   "cell_type": "code",
   "execution_count": 5,
   "metadata": {},
   "outputs": [
    {
     "name": "stdout",
     "output_type": "stream",
     "text": [
      "custom-order: ['A', 'B', 'K', 'E']\n"
     ]
    }
   ],
   "source": [
    "custom_order = [\n",
    "    {\"follow\": \"up\"},\n",
    "    {\"visit\": \"true\", \"result-name\": \"custom-order\"},\n",
    "    {\"follow\": \"down\", \"select\" : {\"name\": \"sample\", \"kwargs\": {\"n\": 1}}}\n",
    "]\n",
    "\n",
    "pp_results(tree_eval(B, custom_order))"
   ]
  },
  {
   "cell_type": "code",
   "execution_count": 6,
   "metadata": {},
   "outputs": [
    {
     "name": "stdout",
     "output_type": "stream",
     "text": [
      "custom-order-2: ['A', 'O', 'C', 'F', 'G']\n"
     ]
    }
   ],
   "source": [
    "custom_order_2 = [\n",
    "    {\"visit\": \"true\", \"result-name\": \"custom-order-2\"},\n",
    "    {\"follow\": \"down\", \"select\" : {\"name\": \"sample\", \"kwargs\": {\"n\": 2}}, \"select-order\": \"shuffle\"}    \n",
    "]\n",
    "\n",
    "pp_results(tree_eval(tree.root, custom_order_2))"
   ]
  },
  {
   "cell_type": "code",
   "execution_count": 7,
   "metadata": {},
   "outputs": [
    {
     "name": "stdout",
     "output_type": "stream",
     "text": [
      "shallow-nodes: ['A', 'B', 'C', 'O', 'P']\n",
      "deep-nodes: ['D', 'H', 'I', 'J', 'E', 'K', 'L', 'F', 'G', 'M', 'N', 'Q']\n"
     ]
    }
   ],
   "source": [
    "cond_order = [\n",
    "    {\n",
    "        \"cond\": [\n",
    "            {\n",
    "                \"pred\": \"less?\",\n",
    "                \"args\": [\"$depth\", 2],\n",
    "                \"order\": [\n",
    "                    { \"visit\": \"true\", \"result-name\": \"shallow-nodes\"},\n",
    "                    { \"follow\": \"down\"}\n",
    "                ]\n",
    "            },\n",
    "            {\n",
    "                \"pred\": \"true\",\n",
    "                \"order\": [\n",
    "                    { \"visit\": \"true\", \"result-name\": \"deep-nodes\"},\n",
    "                    { \"follow\": \"down\"}\n",
    "                ]\n",
    "            }\n",
    "        ]\n",
    "    }\n",
    "]\n",
    "\n",
    "tree_eval_debug = UttEval(False)\n",
    "pp_results(tree_eval_debug(tree.root, cond_order))"
   ]
  },
  {
   "cell_type": "code",
   "execution_count": 8,
   "metadata": {},
   "outputs": [
    {
     "name": "stdout",
     "output_type": "stream",
     "text": [
      "A\n",
      "├───── B\n",
      "│      ├───── D\n",
      "│      │      ├───── H\n",
      "│      │      ├───── I\n",
      "│      │      └───── J\n",
      "│      ├───── E\n",
      "│      ├───── K\n",
      "│      └───── L\n",
      "├───── C\n",
      "│      ├───── F\n",
      "│      ├───── G\n",
      "│      ├───── M\n",
      "│      └───── N\n",
      "├───── O\n",
      "└───── P\n",
      "       └───── Q\n",
      "\n",
      "shallow-nodes: ['A', 'B', 'C', 'O', 'P']\n",
      "deep-nodes: ['D', 'H', 'I', 'J', 'E', 'K', 'L', 'F', 'G', 'M', 'N', 'Q']\n"
     ]
    }
   ],
   "source": [
    "cond_pre_order = [\n",
    "    {\n",
    "        \"cond\": [\n",
    "            {\n",
    "                \"pred\": \"true\",\n",
    "                \"order\": [\n",
    "                    { \"visit\": \"true\", \"result-name\": \"preorder\"},\n",
    "                    { \"follow\": \"down\"}\n",
    "                ]\n",
    "            },\n",
    "        ]\n",
    "    }\n",
    "]\n",
    "# this is the same as `pre_order`, but when we only have a single automatic condition\n",
    "# that is always true, we can just use the order directly\n",
    "\n",
    "tree_eval_debug = UttEval(False)\n",
    "print(AlgoTree.pretty_tree(tree)) \n",
    "pp_results(tree_eval_debug(tree.root, cond_order))"
   ]
  }
 ],
 "metadata": {
  "kernelspec": {
   "display_name": "treeprog",
   "language": "python",
   "name": "python3"
  },
  "language_info": {
   "codemirror_mode": {
    "name": "ipython",
    "version": 3
   },
   "file_extension": ".py",
   "mimetype": "text/x-python",
   "name": "python",
   "nbconvert_exporter": "python",
   "pygments_lexer": "ipython3",
   "version": "3.8.19"
  }
 },
 "nbformat": 4,
 "nbformat_minor": 2
}
